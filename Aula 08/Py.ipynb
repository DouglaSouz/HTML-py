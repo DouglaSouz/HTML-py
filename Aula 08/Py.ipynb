{
 "cells": [
  {
   "cell_type": "markdown",
   "metadata": {},
   "source": [
    "# Aula 08 - Introdução a Estrututa de Dados\n",
    "### Fila (FIFO)"
   ]
  },
  {
   "cell_type": "code",
   "execution_count": 11,
   "metadata": {},
   "outputs": [],
   "source": [
    "class Fila: \n",
    "    def __init__(self) -> None:\n",
    "        self.fila =1\n",
    "        \n",
    "        def enfileirar(self,item):\n",
    "            self.fila.append\n",
    "            print(f\"{item} foi adicionado a fila\")\n",
    "        \n",
    "        def vazio(self):\n",
    "            return len (self.fila) == 0\n",
    "        def desinfileirar(self):\n",
    "            if not self.vazio():\n",
    "                item = self.fila.pop(0)\n",
    "                print(f\"{item} foi re\")\n",
    "                return item\n",
    "            else:\n",
    "                print(\"O caixa está\")\n",
    "                return 0\n",
    "            \n",
    "        def tamanho(self):\n",
    "            if len(self.fila) == 0:\n",
    "                print(\"O caixa está livre\")\n",
    "            else:\n",
    "                print(f\"tem {len(self.fila)} pessoas na fila\")\n",
    "        "
   ]
  },
  {
   "cell_type": "markdown",
   "metadata": {},
   "source": [
    "## Atividade 1\n",
    "> Joãozinho está no mercado "
   ]
  },
  {
   "cell_type": "code",
   "execution_count": 12,
   "metadata": {},
   "outputs": [
    {
     "ename": "AttributeError",
     "evalue": "'Fila' object has no attribute 'enfileirar'",
     "output_type": "error",
     "traceback": [
      "\u001b[1;31m---------------------------------------------------------------------------\u001b[0m",
      "\u001b[1;31mAttributeError\u001b[0m                            Traceback (most recent call last)",
      "Cell \u001b[1;32mIn[12], line 2\u001b[0m\n\u001b[0;32m      1\u001b[0m fila \u001b[38;5;241m=\u001b[39m Fila()\n\u001b[1;32m----> 2\u001b[0m \u001b[43mfila\u001b[49m\u001b[38;5;241;43m.\u001b[39;49m\u001b[43menfileirar\u001b[49m(\u001b[38;5;124m'\u001b[39m\u001b[38;5;124mVó Maria\u001b[39m\u001b[38;5;124m'\u001b[39m)\n\u001b[0;32m      3\u001b[0m fila\u001b[38;5;241m.\u001b[39menfileirar(\u001b[38;5;124m'\u001b[39m\u001b[38;5;124mCaique\u001b[39m\u001b[38;5;124m'\u001b[39m)\n\u001b[0;32m      4\u001b[0m fila\u001b[38;5;241m.\u001b[39menfileirar(\u001b[38;5;124m'\u001b[39m\u001b[38;5;124mJoãozinho\u001b[39m\u001b[38;5;124m'\u001b[39m)\n",
      "\u001b[1;31mAttributeError\u001b[0m: 'Fila' object has no attribute 'enfileirar'"
     ]
    }
   ],
   "source": [
    "fila = Fila()\n",
    "fila.enfileirar('Vó Maria')\n",
    "fila.enfileirar('Caique')\n",
    "fila.enfileirar('Joãozinho')\n",
    "fila.desinfileirar()\n",
    "fila.tamanho()"
   ]
  },
  {
   "cell_type": "markdown",
   "metadata": {},
   "source": [
    "## FIFO utilizando Collections deque"
   ]
  },
  {
   "cell_type": "code",
   "execution_count": 16,
   "metadata": {},
   "outputs": [],
   "source": [
    "from collections import deque \n",
    "\n",
    "class Farmacia:\n",
    "    def __init__(self):\n",
    "        self.farmacia = deque()\n",
    "        \n",
    "    def aguardar (self,nome):\n",
    "        self.farmacia.append(nome)\n",
    "        print(f\"{nome} está na fila\")\n",
    "    def vazio(self):\n",
    "        return len(self.farmacia) == 0\n",
    "    \n",
    "    def atender(self):\n",
    "        if not self.vazio():\n",
    "            nome = self.farmacia.popleft()\n",
    "            print(f\"{nome} foi atendido(a)\")\n",
    "        else:\n",
    "            print(\"O(A) atedente está livre\")\n",
    "    def tamanho(self):\n",
    "        if len(self.farmacia) == 0:\n",
    "            print(\"A fila está vazia\") \n",
    "        else:\n",
    "            print(f\"Tem {len(self.farmacia)} pessoas na fila\")   \n",
    "          "
   ]
  },
  {
   "cell_type": "markdown",
   "metadata": {},
   "source": [
    "## Atividade 2 - Atendimento da Farmacia\n",
    "> Ao abrir a farmacia pela manhã, a balconista recebe 5 pessoas. 3 delas são atendidas e vão ao caixa. As demas estão agurdando para ser atendidas. Inclua o nome das 5 pessoas, atenda 3 e depois mostre o tamanho da fila."
   ]
  },
  {
   "cell_type": "code",
   "execution_count": 18,
   "metadata": {},
   "outputs": [
    {
     "name": "stdout",
     "output_type": "stream",
     "text": [
      "julio está na fila\n",
      "Holanda está na fila\n",
      "Nestor está na fila\n",
      "Jossiana está na fila\n",
      "Douglas está na fila\n",
      "julio foi atendido(a)\n",
      "Holanda foi atendido(a)\n",
      "Nestor foi atendido(a)\n",
      "Tem 2 pessoas na fila\n"
     ]
    }
   ],
   "source": [
    "farmacia = Farmacia ()\n",
    "farmacia.aguardar(\"julio\")\n",
    "farmacia.aguardar(\"Holanda\")\n",
    "farmacia.aguardar(\"Nestor\")\n",
    "farmacia.aguardar(\"Jossiana\")\n",
    "farmacia.aguardar(\"Douglas\")\n",
    "farmacia.atender()\n",
    "farmacia.atender()\n",
    "farmacia.atender()\n",
    "farmacia.tamanho()\n"
   ]
  },
  {
   "cell_type": "markdown",
   "metadata": {},
   "source": [
    "## Pilha (LIFO)"
   ]
  },
  {
   "cell_type": "code",
   "execution_count": 27,
   "metadata": {},
   "outputs": [],
   "source": [
    "class Editor:\n",
    "    def __init__(self):\n",
    "        self.texto = \"\"\n",
    "        self.historico = []\n",
    "    def escrever(self, texto) :\n",
    "        self.historico.append(self.texto)\n",
    "        self.texto += texto\n",
    "    \n",
    "    def desfazer(self):\n",
    "        if self.historico:\n",
    "            self.texto = self.historico.pop()\n",
    "        else:\n",
    "            self.texto = \"\"\n",
    "    \n",
    "    def visualiazar(self):\n",
    "        print(self.texto)\n",
    "                "
   ]
  },
  {
   "cell_type": "markdown",
   "metadata": {},
   "source": [
    "## Atividade 3\n",
    "> Em um editor Yago escreve primeiro\"Olá\", depois \"mundo!\" e por ultimo \"Por:\" e \"Yago\"; Depois disso ele exibiu o texto editado. Logo após decidiu remover \"Por:Yago\". Faça um algoritmo que realize o passo-a-passo de Yago."
   ]
  },
  {
   "cell_type": "code",
   "execution_count": 31,
   "metadata": {},
   "outputs": [
    {
     "name": "stdout",
     "output_type": "stream",
     "text": [
      "Olá mundo!\n"
     ]
    }
   ],
   "source": [
    "texto = Editor ()\n",
    "texto.escrever(\"Olá\")\n",
    "texto.escrever(\" mundo!\")\n",
    "texto.escrever(\" Por: \")\n",
    "texto.escrever(\"Yago\")\n",
    "texto.desfazer()\n",
    "texto.desfazer()\n",
    "texto.visualiazar()\n"
   ]
  }
 ],
 "metadata": {
  "kernelspec": {
   "display_name": "Python 3",
   "language": "python",
   "name": "python3"
  },
  "language_info": {
   "codemirror_mode": {
    "name": "ipython",
    "version": 3
   },
   "file_extension": ".py",
   "mimetype": "text/x-python",
   "name": "python",
   "nbconvert_exporter": "python",
   "pygments_lexer": "ipython3",
   "version": "3.12.2"
  }
 },
 "nbformat": 4,
 "nbformat_minor": 2
}
