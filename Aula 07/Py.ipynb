{
 "cells": [
  {
   "cell_type": "markdown",
   "metadata": {},
   "source": [
    "## Manipulação de Strings com python \n",
    " > Uma variavel primaria de texto é chamada de char ou caracter possibilitando o armazenamento de 8 bit de memória. Quando necessitampos de um conjuto de caracteres utilizamos um onjeto, ou variaveis compostas no caso da maioria das linguagens chamada de string. Vamos ver como se aplica.\n",
    " "
   ]
  },
  {
   "cell_type": "code",
   "execution_count": 1,
   "metadata": {},
   "outputs": [
    {
     "name": "stdout",
     "output_type": "stream",
     "text": [
      "Boa tarde a todos\n",
      "Boa tarde\n"
     ]
    }
   ],
   "source": [
    "frase = \"Boa tarde a todos\"\n",
    "print (frase) \n",
    "saudacao =  frase [0:9]\n",
    "print (saudacao)"
   ]
  },
  {
   "cell_type": "code",
   "execution_count": 2,
   "metadata": {},
   "outputs": [
    {
     "name": "stdout",
     "output_type": "stream",
     "text": [
      "<class 'str'>\n",
      "<class 'str'>\n"
     ]
    }
   ],
   "source": [
    "print (type(frase))\n",
    "print (type(saudacao))"
   ]
  },
  {
   "cell_type": "code",
   "execution_count": 15,
   "metadata": {},
   "outputs": [
    {
     "name": "stdout",
     "output_type": "stream",
     "text": [
      "2\n",
      "1\n"
     ]
    }
   ],
   "source": [
    "print(frase.count(' '))\n",
    "print(saudacao.count(' '))\n"
   ]
  },
  {
   "cell_type": "code",
   "execution_count": 6,
   "metadata": {},
   "outputs": [
    {
     "name": "stdout",
     "output_type": "stream",
     "text": [
      "17\n",
      "9\n"
     ]
    }
   ],
   "source": [
    "print(len(frase))\n",
    "print(len(saudacao))"
   ]
  },
  {
   "cell_type": "code",
   "execution_count": 7,
   "metadata": {},
   "outputs": [
    {
     "name": "stdout",
     "output_type": "stream",
     "text": [
      "Boa tarde galerinha!\n"
     ]
    }
   ],
   "source": [
    "frase = frase.replace('a todos','galerinha!')\n",
    "print(frase)"
   ]
  },
  {
   "cell_type": "code",
   "execution_count": 8,
   "metadata": {},
   "outputs": [
    {
     "name": "stdout",
     "output_type": "stream",
     "text": [
      "Boa noite galerinha!\n"
     ]
    }
   ],
   "source": [
    "frase = frase.replace('Boa tarde','Boa noite')\n",
    "print(frase)"
   ]
  },
  {
   "cell_type": "code",
   "execution_count": 9,
   "metadata": {},
   "outputs": [
    {
     "name": "stdout",
     "output_type": "stream",
     "text": [
      "Boa tarde\n"
     ]
    }
   ],
   "source": [
    "saudacao + saudacao.replace('tarde','noite')\n",
    "print(saudacao)"
   ]
  },
  {
   "cell_type": "code",
   "execution_count": 10,
   "metadata": {},
   "outputs": [
    {
     "name": "stdout",
     "output_type": "stream",
     "text": [
      "['B', 'o', 'a', ' ', 'n', 'o', 'i', 't', 'e', ' ', 'g', 'a', 'l', 'e', 'r', 'i', 'n', 'h', 'a', '!']\n"
     ]
    }
   ],
   "source": [
    "frase = [i for i in frase]\n",
    "print(frase)"
   ]
  },
  {
   "cell_type": "code",
   "execution_count": 12,
   "metadata": {},
   "outputs": [
    {
     "name": "stdout",
     "output_type": "stream",
     "text": [
      "B\n",
      "o\n",
      "a\n",
      " \n",
      "n\n",
      "o\n",
      "i\n",
      "t\n",
      "e\n",
      " \n",
      "g\n",
      "a\n",
      "l\n",
      "e\n",
      "r\n",
      "i\n",
      "n\n",
      "h\n",
      "a\n",
      "!\n"
     ]
    }
   ],
   "source": [
    "for x in frase:\n",
    "    print(x)"
   ]
  },
  {
   "cell_type": "markdown",
   "metadata": {},
   "source": [
    "## Exercício 1 \n",
    "> Crie um código para a seguinte frase:\"Sabia que o sabiá sabia assubiar\" reparticionado por espaços, após issom cire um print format pra visulizar cada palavra em uma coluna separada"
   ]
  },
  {
   "cell_type": "code",
   "execution_count": 33,
   "metadata": {},
   "outputs": [
    {
     "name": "stdout",
     "output_type": "stream",
     "text": [
      "['sabia', 'que', 'o', 'sabiá', 'sabia', 'assubiar']\n"
     ]
    }
   ],
   "source": [
    "frase = \"sabia que o sabiá sabia assubiar\"\n",
    "\n",
    "palavras = frase.split()\n",
    "\n",
    "print(palavras) \n",
    "\n"
   ]
  },
  {
   "cell_type": "code",
   "execution_count": 40,
   "metadata": {},
   "outputs": [
    {
     "name": "stdout",
     "output_type": "stream",
     "text": [
      "s q o s s a \n",
      "a u   a a s \n",
      "b e   b b s \n",
      "i     i i u \n",
      "a     á a b \n",
      "          i \n",
      "          a \n",
      "          r \n"
     ]
    }
   ],
   "source": [
    "for i in range(max(len(x)for x in palavras)):\n",
    "    for y in palavras:\n",
    "     print(y[i] if i < len(y) else ' ', end =' ')\n",
    "\n",
    "    print()"
   ]
  },
  {
   "cell_type": "markdown",
   "metadata": {},
   "source": [
    ">segunda forma de fazer"
   ]
  },
  {
   "cell_type": "code",
   "execution_count": 41,
   "metadata": {},
   "outputs": [
    {
     "name": "stdout",
     "output_type": "stream",
     "text": [
      "s q o s s a\n",
      "a u   a a s\n",
      "b e   b b s\n",
      "i     i i u\n",
      "a     á a b\n",
      "          i\n",
      "          a\n",
      "          r\n"
     ]
    }
   ],
   "source": [
    "for i in range(max(len (x) for x in palavras)):\n",
    "    print(' '.join(x [i] if i< len(x) else ' ' for x in palavras))"
   ]
  },
  {
   "cell_type": "markdown",
   "metadata": {},
   "source": [
    "## Introdução a Numpy\n",
    " >Numpy é uma biblioteca python para desenvolvimento de matrizes, Tem por objetivo facilitar na criação de algoritmos metematios para solucionar paradgimas avançados em relação arrays."
   ]
  },
  {
   "cell_type": "code",
   "execution_count": 1,
   "metadata": {},
   "outputs": [
    {
     "name": "stdout",
     "output_type": "stream",
     "text": [
      "[1 2 3]\n"
     ]
    }
   ],
   "source": [
    "import numpy as np\n",
    "a = np.array([1,2,3])\n",
    "print(a)"
   ]
  },
  {
   "cell_type": "code",
   "execution_count": 45,
   "metadata": {},
   "outputs": [
    {
     "name": "stdout",
     "output_type": "stream",
     "text": [
      "[[1 2 3]\n",
      " [4 5 6]]\n"
     ]
    }
   ],
   "source": [
    "b = np.array ([(1,2,3),(4,5,6)])\n",
    "print(b)"
   ]
  },
  {
   "cell_type": "code",
   "execution_count": 48,
   "metadata": {},
   "outputs": [
    {
     "name": "stdout",
     "output_type": "stream",
     "text": [
      "[[1. 1. 1.]\n",
      " [1. 1. 1.]\n",
      " [1. 1. 1.]]\n"
     ]
    }
   ],
   "source": [
    "c = np.ones((3,3))\n",
    "print(c)"
   ]
  },
  {
   "cell_type": "code",
   "execution_count": 49,
   "metadata": {},
   "outputs": [
    {
     "name": "stdout",
     "output_type": "stream",
     "text": [
      "[[1. 0. 0. 0. 0.]\n",
      " [0. 1. 0. 0. 0.]\n",
      " [0. 0. 1. 0. 0.]\n",
      " [0. 0. 0. 1. 0.]\n",
      " [0. 0. 0. 0. 1.]]\n"
     ]
    }
   ],
   "source": [
    "d = np.eye(5)\n",
    "print(d)"
   ]
  },
  {
   "cell_type": "code",
   "execution_count": 52,
   "metadata": {},
   "outputs": [
    {
     "name": "stdout",
     "output_type": "stream",
     "text": [
      "3\n",
      "6\n",
      "1.0\n",
      "1.0\n"
     ]
    }
   ],
   "source": [
    "print(a.max())\n",
    "print(b.max())\n",
    "print(c.max())\n",
    "print(d.max())"
   ]
  },
  {
   "cell_type": "code",
   "execution_count": 53,
   "metadata": {},
   "outputs": [
    {
     "name": "stdout",
     "output_type": "stream",
     "text": [
      "1\n",
      "1\n",
      "1.0\n",
      "0.0\n"
     ]
    }
   ],
   "source": [
    "print(a.min())\n",
    "print(b.min())\n",
    "print(c.min())\n",
    "print(d.min())"
   ]
  },
  {
   "cell_type": "code",
   "execution_count": 54,
   "metadata": {},
   "outputs": [
    {
     "name": "stdout",
     "output_type": "stream",
     "text": [
      "6\n",
      "21\n",
      "9.0\n",
      "5.0\n"
     ]
    }
   ],
   "source": [
    "print(a.sum())\n",
    "print(b.sum())\n",
    "print(c.sum())\n",
    "print(d.sum())"
   ]
  },
  {
   "cell_type": "code",
   "execution_count": 57,
   "metadata": {},
   "outputs": [
    {
     "name": "stdout",
     "output_type": "stream",
     "text": [
      "2.0\n",
      "3.5\n",
      "1.0\n",
      "0.2\n"
     ]
    }
   ],
   "source": [
    "print(a.mean())\n",
    "print(b.mean())\n",
    "print(c.mean())\n",
    "print(d.mean())"
   ]
  },
  {
   "cell_type": "markdown",
   "metadata": {},
   "source": [
    ">para desvio padrão"
   ]
  },
  {
   "cell_type": "code",
   "execution_count": 60,
   "metadata": {},
   "outputs": [
    {
     "name": "stdout",
     "output_type": "stream",
     "text": [
      "0.82\n",
      "1.71\n",
      "0.0\n",
      "0.4\n"
     ]
    }
   ],
   "source": [
    "print(round(a.std(),2))\n",
    "print(round(b.std(),2))\n",
    "print(round(c.std(),2))\n",
    "print(round(d.std(),2))"
   ]
  },
  {
   "cell_type": "markdown",
   "metadata": {},
   "source": [
    "## Exercicio 2\n",
    "  > Crie uma matriz chamada contar com os numeros de 0 até 9. Ao final cire uma contragem, média e desvio padrão dessa matriz. Para adicionar de zero e 9 utilize um for e depois atribua á matriz"
   ]
  },
  {
   "cell_type": "code",
   "execution_count": 66,
   "metadata": {},
   "outputs": [
    {
     "name": "stdout",
     "output_type": "stream",
     "text": [
      "[1 2 3 5 6 7 8 9]\n"
     ]
    }
   ],
   "source": [
    "contar = np.array([1,2,3,5,6,7,8,9])\n",
    "print(a)"
   ]
  },
  {
   "cell_type": "code",
   "execution_count": 67,
   "metadata": {},
   "outputs": [
    {
     "name": "stdout",
     "output_type": "stream",
     "text": [
      "5.125\n"
     ]
    }
   ],
   "source": [
    "print(contar.mean())"
   ]
  },
  {
   "cell_type": "code",
   "execution_count": 68,
   "metadata": {},
   "outputs": [
    {
     "name": "stdout",
     "output_type": "stream",
     "text": [
      "2.71\n"
     ]
    }
   ],
   "source": [
    "print(round(contar.std(),2))"
   ]
  }
 ],
 "metadata": {
  "kernelspec": {
   "display_name": "Python 3",
   "language": "python",
   "name": "python3"
  },
  "language_info": {
   "codemirror_mode": {
    "name": "ipython",
    "version": 3
   },
   "file_extension": ".py",
   "mimetype": "text/x-python",
   "name": "python",
   "nbconvert_exporter": "python",
   "pygments_lexer": "ipython3",
   "version": "3.12.2"
  }
 },
 "nbformat": 4,
 "nbformat_minor": 2
}
